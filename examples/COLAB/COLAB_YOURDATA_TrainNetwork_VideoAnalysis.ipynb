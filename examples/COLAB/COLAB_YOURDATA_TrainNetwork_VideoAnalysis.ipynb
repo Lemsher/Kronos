{
  "cells": [
    {
      "cell_type": "markdown",
      "metadata": {
        "id": "view-in-github",
        "colab_type": "text"
      },
      "source": [
        "<a href=\"https://colab.research.google.com/github/Lemsher/Kronos/blob/master/examples/COLAB/COLAB_YOURDATA_TrainNetwork_VideoAnalysis.ipynb\" target=\"_parent\"><img src=\"https://colab.research.google.com/assets/colab-badge.svg\" alt=\"Open In Colab\"/></a>"
      ]
    },
    {
      "cell_type": "markdown",
      "metadata": {
        "id": "RK255E7YoEIt"
      },
      "source": [
        "# DeepLabCut for your standard (single animal) projects!\n",
        "\n",
        "Some useful links:\n",
        "\n",
        "- [DeepLabCut's GitHub: github.com/DeepLabCut/DeepLabCut](https://github.com/DeepLabCut/DeepLabCut)\n",
        "- [DeepLabCut's Documentation: User Guide for Single Animal projects](https://deeplabcut.github.io/DeepLabCut/docs/standardDeepLabCut_UserGuide.html)\n",
        "\n",
        "\n",
        "This notebook illustrates how to use the cloud to:\n",
        "- create a training set\n",
        "- train a network\n",
        "- evaluate a network\n",
        "- create simple quality check plots\n",
        "- analyze novel videos!\n",
        "\n",
        "### This notebook assumes you already have a project folder with labeled data!\n",
        "\n",
        "This notebook demonstrates the necessary steps to use DeepLabCut for your own project.\n",
        "\n",
        "This shows the most simple code to do so, but many of the functions have additional features, so please check out the overview & the protocol paper!\n",
        "\n",
        "Nath\\*, Mathis\\* et al.: Using DeepLabCut for markerless pose estimation during behavior across species. Nature Protocols, 2019.\n",
        "\n",
        "\n",
        "Paper: https://www.nature.com/articles/s41596-019-0176-0\n",
        "\n",
        "Pre-print: https://www.biorxiv.org/content/biorxiv/early/2018/11/24/476531.full.pdf\n"
      ]
    },
    {
      "cell_type": "markdown",
      "metadata": {
        "id": "txoddlM8hLKm"
      },
      "source": [
        "## First, go to \"Runtime\" ->\"change runtime type\"->select \"Python3\", and then select \"GPU\"\n",
        "\n",
        "As the COLAB environments were updated to CUDA 12.X and Python 3.11, we need to install DeepLabCut and TensorFlow in a distinct way to get TensorFlow to connect to the GPU."
      ]
    },
    {
      "cell_type": "code",
      "execution_count": 1,
      "metadata": {
        "colab": {
          "base_uri": "https://localhost:8080/"
        },
        "id": "eDYwK4UEfCph",
        "outputId": "5d66a313-9651-4df9-9b02-c5ffcf18a2e8"
      },
      "outputs": [
        {
          "output_type": "stream",
          "name": "stdout",
          "text": [
            "Requirement already satisfied: deeplabcut in /usr/local/lib/python3.12/dist-packages (3.0.0rc13)\n",
            "Requirement already satisfied: albumentations<=1.4.3 in /usr/local/lib/python3.12/dist-packages (from deeplabcut) (1.4.3)\n",
            "Requirement already satisfied: dlclibrary>=0.0.7 in /usr/local/lib/python3.12/dist-packages (from deeplabcut) (0.0.11)\n",
            "Requirement already satisfied: einops in /usr/local/lib/python3.12/dist-packages (from deeplabcut) (0.8.1)\n",
            "Requirement already satisfied: filterpy>=1.4.4 in /usr/local/lib/python3.12/dist-packages (from deeplabcut) (1.4.5)\n",
            "Requirement already satisfied: ruamel.yaml>=0.15.0 in /usr/local/lib/python3.12/dist-packages (from deeplabcut) (0.18.15)\n",
            "Requirement already satisfied: imgaug>=0.4.0 in /usr/local/lib/python3.12/dist-packages (from deeplabcut) (0.4.0)\n",
            "Requirement already satisfied: imageio-ffmpeg in /usr/local/lib/python3.12/dist-packages (from deeplabcut) (0.6.0)\n",
            "Requirement already satisfied: numba>=0.54 in /usr/local/lib/python3.12/dist-packages (from deeplabcut) (0.60.0)\n",
            "Requirement already satisfied: matplotlib!=3.7.0,!=3.7.1,<3.9,>=3.3 in /usr/local/lib/python3.12/dist-packages (from deeplabcut) (3.8.4)\n",
            "Requirement already satisfied: networkx>=2.6 in /usr/local/lib/python3.12/dist-packages (from deeplabcut) (3.5)\n",
            "Requirement already satisfied: numpy<2.0.0,>=1.18.5 in /usr/local/lib/python3.12/dist-packages (from deeplabcut) (1.26.4)\n",
            "Requirement already satisfied: pandas!=1.5.0,>=1.0.1 in /usr/local/lib/python3.12/dist-packages (from deeplabcut) (2.2.2)\n",
            "Requirement already satisfied: scikit-image>=0.17 in /usr/local/lib/python3.12/dist-packages (from deeplabcut) (0.25.2)\n",
            "Requirement already satisfied: scikit-learn>=1.0 in /usr/local/lib/python3.12/dist-packages (from deeplabcut) (1.6.1)\n",
            "Requirement already satisfied: scipy>=1.9 in /usr/local/lib/python3.12/dist-packages (from deeplabcut) (1.16.2)\n",
            "Requirement already satisfied: statsmodels>=0.11 in /usr/local/lib/python3.12/dist-packages (from deeplabcut) (0.14.5)\n",
            "Requirement already satisfied: timm in /usr/local/lib/python3.12/dist-packages (from deeplabcut) (1.0.20)\n",
            "Requirement already satisfied: torch>=2.0.0 in /usr/local/lib/python3.12/dist-packages (from deeplabcut) (2.8.0+cu126)\n",
            "Requirement already satisfied: torchvision in /usr/local/lib/python3.12/dist-packages (from deeplabcut) (0.23.0+cu126)\n",
            "Requirement already satisfied: tqdm in /usr/local/lib/python3.12/dist-packages (from deeplabcut) (4.67.1)\n",
            "Requirement already satisfied: pycocotools in /usr/local/lib/python3.12/dist-packages (from deeplabcut) (2.0.10)\n",
            "Requirement already satisfied: pyyaml in /usr/local/lib/python3.12/dist-packages (from deeplabcut) (6.0.3)\n",
            "Requirement already satisfied: Pillow>=7.1 in /usr/local/lib/python3.12/dist-packages (from deeplabcut) (11.3.0)\n",
            "Requirement already satisfied: tables in /usr/local/lib/python3.12/dist-packages (from deeplabcut) (3.10.2)\n",
            "Requirement already satisfied: typing-extensions>=4.9.0 in /usr/local/lib/python3.12/dist-packages (from albumentations<=1.4.3->deeplabcut) (4.15.0)\n",
            "Requirement already satisfied: opencv-python-headless>=4.9.0 in /usr/local/lib/python3.12/dist-packages (from albumentations<=1.4.3->deeplabcut) (4.11.0.86)\n",
            "Requirement already satisfied: huggingface-hub in /usr/local/lib/python3.12/dist-packages (from dlclibrary>=0.0.7->deeplabcut) (0.35.3)\n",
            "Requirement already satisfied: six in /usr/local/lib/python3.12/dist-packages (from imgaug>=0.4.0->deeplabcut) (1.17.0)\n",
            "Requirement already satisfied: opencv-python in /usr/local/lib/python3.12/dist-packages (from imgaug>=0.4.0->deeplabcut) (4.11.0.86)\n",
            "Requirement already satisfied: imageio in /usr/local/lib/python3.12/dist-packages (from imgaug>=0.4.0->deeplabcut) (2.37.0)\n",
            "Requirement already satisfied: Shapely in /usr/local/lib/python3.12/dist-packages (from imgaug>=0.4.0->deeplabcut) (2.1.2)\n",
            "Requirement already satisfied: contourpy>=1.0.1 in /usr/local/lib/python3.12/dist-packages (from matplotlib!=3.7.0,!=3.7.1,<3.9,>=3.3->deeplabcut) (1.3.3)\n",
            "Requirement already satisfied: cycler>=0.10 in /usr/local/lib/python3.12/dist-packages (from matplotlib!=3.7.0,!=3.7.1,<3.9,>=3.3->deeplabcut) (0.12.1)\n",
            "Requirement already satisfied: fonttools>=4.22.0 in /usr/local/lib/python3.12/dist-packages (from matplotlib!=3.7.0,!=3.7.1,<3.9,>=3.3->deeplabcut) (4.60.1)\n",
            "Requirement already satisfied: kiwisolver>=1.3.1 in /usr/local/lib/python3.12/dist-packages (from matplotlib!=3.7.0,!=3.7.1,<3.9,>=3.3->deeplabcut) (1.4.9)\n",
            "Requirement already satisfied: packaging>=20.0 in /usr/local/lib/python3.12/dist-packages (from matplotlib!=3.7.0,!=3.7.1,<3.9,>=3.3->deeplabcut) (25.0)\n",
            "Requirement already satisfied: pyparsing>=2.3.1 in /usr/local/lib/python3.12/dist-packages (from matplotlib!=3.7.0,!=3.7.1,<3.9,>=3.3->deeplabcut) (3.2.5)\n",
            "Requirement already satisfied: python-dateutil>=2.7 in /usr/local/lib/python3.12/dist-packages (from matplotlib!=3.7.0,!=3.7.1,<3.9,>=3.3->deeplabcut) (2.9.0.post0)\n",
            "Requirement already satisfied: llvmlite<0.44,>=0.43.0dev0 in /usr/local/lib/python3.12/dist-packages (from numba>=0.54->deeplabcut) (0.43.0)\n",
            "Requirement already satisfied: pytz>=2020.1 in /usr/local/lib/python3.12/dist-packages (from pandas!=1.5.0,>=1.0.1->deeplabcut) (2025.2)\n",
            "Requirement already satisfied: tzdata>=2022.7 in /usr/local/lib/python3.12/dist-packages (from pandas!=1.5.0,>=1.0.1->deeplabcut) (2025.2)\n",
            "Requirement already satisfied: ruamel.yaml.clib>=0.2.7 in /usr/local/lib/python3.12/dist-packages (from ruamel.yaml>=0.15.0->deeplabcut) (0.2.14)\n",
            "Requirement already satisfied: tifffile>=2022.8.12 in /usr/local/lib/python3.12/dist-packages (from scikit-image>=0.17->deeplabcut) (2025.10.4)\n",
            "Requirement already satisfied: lazy-loader>=0.4 in /usr/local/lib/python3.12/dist-packages (from scikit-image>=0.17->deeplabcut) (0.4)\n",
            "Requirement already satisfied: joblib>=1.2.0 in /usr/local/lib/python3.12/dist-packages (from scikit-learn>=1.0->deeplabcut) (1.5.2)\n",
            "Requirement already satisfied: threadpoolctl>=3.1.0 in /usr/local/lib/python3.12/dist-packages (from scikit-learn>=1.0->deeplabcut) (3.6.0)\n",
            "Requirement already satisfied: patsy>=0.5.6 in /usr/local/lib/python3.12/dist-packages (from statsmodels>=0.11->deeplabcut) (1.0.1)\n",
            "Requirement already satisfied: filelock in /usr/local/lib/python3.12/dist-packages (from torch>=2.0.0->deeplabcut) (3.20.0)\n",
            "Requirement already satisfied: setuptools in /usr/local/lib/python3.12/dist-packages (from torch>=2.0.0->deeplabcut) (75.2.0)\n",
            "Requirement already satisfied: sympy>=1.13.3 in /usr/local/lib/python3.12/dist-packages (from torch>=2.0.0->deeplabcut) (1.13.3)\n",
            "Requirement already satisfied: jinja2 in /usr/local/lib/python3.12/dist-packages (from torch>=2.0.0->deeplabcut) (3.1.6)\n",
            "Requirement already satisfied: fsspec in /usr/local/lib/python3.12/dist-packages (from torch>=2.0.0->deeplabcut) (2025.3.0)\n",
            "Requirement already satisfied: nvidia-cuda-nvrtc-cu12==12.6.77 in /usr/local/lib/python3.12/dist-packages (from torch>=2.0.0->deeplabcut) (12.6.77)\n",
            "Requirement already satisfied: nvidia-cuda-runtime-cu12==12.6.77 in /usr/local/lib/python3.12/dist-packages (from torch>=2.0.0->deeplabcut) (12.6.77)\n",
            "Requirement already satisfied: nvidia-cuda-cupti-cu12==12.6.80 in /usr/local/lib/python3.12/dist-packages (from torch>=2.0.0->deeplabcut) (12.6.80)\n",
            "Requirement already satisfied: nvidia-cudnn-cu12==9.10.2.21 in /usr/local/lib/python3.12/dist-packages (from torch>=2.0.0->deeplabcut) (9.10.2.21)\n",
            "Requirement already satisfied: nvidia-cublas-cu12==12.6.4.1 in /usr/local/lib/python3.12/dist-packages (from torch>=2.0.0->deeplabcut) (12.6.4.1)\n",
            "Requirement already satisfied: nvidia-cufft-cu12==11.3.0.4 in /usr/local/lib/python3.12/dist-packages (from torch>=2.0.0->deeplabcut) (11.3.0.4)\n",
            "Requirement already satisfied: nvidia-curand-cu12==10.3.7.77 in /usr/local/lib/python3.12/dist-packages (from torch>=2.0.0->deeplabcut) (10.3.7.77)\n",
            "Requirement already satisfied: nvidia-cusolver-cu12==11.7.1.2 in /usr/local/lib/python3.12/dist-packages (from torch>=2.0.0->deeplabcut) (11.7.1.2)\n",
            "Requirement already satisfied: nvidia-cusparse-cu12==12.5.4.2 in /usr/local/lib/python3.12/dist-packages (from torch>=2.0.0->deeplabcut) (12.5.4.2)\n",
            "Requirement already satisfied: nvidia-cusparselt-cu12==0.7.1 in /usr/local/lib/python3.12/dist-packages (from torch>=2.0.0->deeplabcut) (0.7.1)\n",
            "Requirement already satisfied: nvidia-nccl-cu12==2.27.3 in /usr/local/lib/python3.12/dist-packages (from torch>=2.0.0->deeplabcut) (2.27.3)\n",
            "Requirement already satisfied: nvidia-nvtx-cu12==12.6.77 in /usr/local/lib/python3.12/dist-packages (from torch>=2.0.0->deeplabcut) (12.6.77)\n",
            "Requirement already satisfied: nvidia-nvjitlink-cu12==12.6.85 in /usr/local/lib/python3.12/dist-packages (from torch>=2.0.0->deeplabcut) (12.6.85)\n",
            "Requirement already satisfied: nvidia-cufile-cu12==1.11.1.6 in /usr/local/lib/python3.12/dist-packages (from torch>=2.0.0->deeplabcut) (1.11.1.6)\n",
            "Requirement already satisfied: triton==3.4.0 in /usr/local/lib/python3.12/dist-packages (from torch>=2.0.0->deeplabcut) (3.4.0)\n",
            "Requirement already satisfied: numexpr>=2.6.2 in /usr/local/lib/python3.12/dist-packages (from tables->deeplabcut) (2.14.1)\n",
            "Requirement already satisfied: py-cpuinfo in /usr/local/lib/python3.12/dist-packages (from tables->deeplabcut) (9.0.0)\n",
            "Requirement already satisfied: blosc2>=2.3.0 in /usr/local/lib/python3.12/dist-packages (from tables->deeplabcut) (3.10.1)\n",
            "Requirement already satisfied: safetensors in /usr/local/lib/python3.12/dist-packages (from timm->deeplabcut) (0.6.2)\n",
            "Requirement already satisfied: ndindex in /usr/local/lib/python3.12/dist-packages (from blosc2>=2.3.0->tables->deeplabcut) (1.10.0)\n",
            "Requirement already satisfied: msgpack in /usr/local/lib/python3.12/dist-packages (from blosc2>=2.3.0->tables->deeplabcut) (1.1.2)\n",
            "Requirement already satisfied: platformdirs in /usr/local/lib/python3.12/dist-packages (from blosc2>=2.3.0->tables->deeplabcut) (4.5.0)\n",
            "Requirement already satisfied: requests in /usr/local/lib/python3.12/dist-packages (from blosc2>=2.3.0->tables->deeplabcut) (2.32.4)\n",
            "Requirement already satisfied: mpmath<1.4,>=1.1.0 in /usr/local/lib/python3.12/dist-packages (from sympy>=1.13.3->torch>=2.0.0->deeplabcut) (1.3.0)\n",
            "Requirement already satisfied: hf-xet<2.0.0,>=1.1.3 in /usr/local/lib/python3.12/dist-packages (from huggingface-hub->dlclibrary>=0.0.7->deeplabcut) (1.1.10)\n",
            "Requirement already satisfied: MarkupSafe>=2.0 in /usr/local/lib/python3.12/dist-packages (from jinja2->torch>=2.0.0->deeplabcut) (3.0.3)\n",
            "Requirement already satisfied: charset_normalizer<4,>=2 in /usr/local/lib/python3.12/dist-packages (from requests->blosc2>=2.3.0->tables->deeplabcut) (3.4.4)\n",
            "Requirement already satisfied: idna<4,>=2.5 in /usr/local/lib/python3.12/dist-packages (from requests->blosc2>=2.3.0->tables->deeplabcut) (3.11)\n",
            "Requirement already satisfied: urllib3<3,>=1.21.1 in /usr/local/lib/python3.12/dist-packages (from requests->blosc2>=2.3.0->tables->deeplabcut) (2.5.0)\n",
            "Requirement already satisfied: certifi>=2017.4.17 in /usr/local/lib/python3.12/dist-packages (from requests->blosc2>=2.3.0->tables->deeplabcut) (2025.10.5)\n"
          ]
        }
      ],
      "source": [
        "# this will take a couple of minutes to install all the dependencies!\n",
        "!pip install --pre deeplabcut"
      ]
    },
    {
      "cell_type": "markdown",
      "metadata": {
        "id": "25wSj6TlVclR"
      },
      "source": [
        "**(Be sure to click \"RESTART RUNTIME\" if it is displayed above before moving on !)** You will see this button at the output of the cells above ^."
      ]
    },
    {
      "cell_type": "code",
      "execution_count": 2,
      "metadata": {
        "colab": {
          "base_uri": "https://localhost:8080/"
        },
        "id": "oTwAcbq2-FZz",
        "outputId": "ce56e18d-ac7a-4b51-a3da-9ac4262209ed"
      },
      "outputs": [
        {
          "output_type": "stream",
          "name": "stdout",
          "text": [
            "Loading DLC 3.0.0rc13...\n",
            "DLC loaded in light mode; you cannot use any GUI (labeling, relabeling and standalone GUI)\n"
          ]
        }
      ],
      "source": [
        "import deeplabcut"
      ]
    },
    {
      "cell_type": "markdown",
      "metadata": {
        "id": "cQ-nlTkri4HZ"
      },
      "source": [
        "## Link your Google Drive (with your labeled data, or the demo data):\n",
        "\n",
        "### First, place your project folder into you google drive! \"i.e. move the folder named \"Project-YourName-TheDate\" into google drive."
      ]
    },
    {
      "cell_type": "code",
      "execution_count": 3,
      "metadata": {
        "colab": {
          "base_uri": "https://localhost:8080/"
        },
        "id": "KS4Q4UkR9rgG",
        "outputId": "01cb703b-5548-48c8-ab27-3b81a3469187"
      },
      "outputs": [
        {
          "output_type": "stream",
          "name": "stdout",
          "text": [
            "Mounted at /content/drive\n"
          ]
        }
      ],
      "source": [
        "# Now, let's link to your GoogleDrive. Run this cell and follow the authorization instructions:\n",
        "# (We recommend putting a copy of the github repo in your google drive if you are using the demo \"examples\")\n",
        "\n",
        "from google.colab import drive\n",
        "\n",
        "drive.mount(\"/content/drive\")"
      ]
    },
    {
      "cell_type": "markdown",
      "metadata": {
        "id": "Frnj1RVDyEqs"
      },
      "source": [
        "YOU WILL NEED TO EDIT THE PROJECT PATH **in the config.yaml file** TO BE SET TO YOUR GOOGLE DRIVE LINK!\n",
        "\n",
        "Typically, this will be: `/content/drive/My Drive/yourProjectFolderName`\n"
      ]
    },
    {
      "cell_type": "code",
      "execution_count": 6,
      "metadata": {
        "colab": {
          "base_uri": "https://localhost:8080/"
        },
        "id": "vhENAlQnFENJ",
        "outputId": "66a9278d-7945-4ccf-f0aa-46b39ff0ca47"
      },
      "outputs": [
        {
          "output_type": "stream",
          "name": "stdout",
          "text": [
            "['/content/drive/My Drive/test-Han-2025-10-04/videos']\n",
            "/content/drive/My Drive/test-Han-2025-10-04/config.yaml\n"
          ]
        }
      ],
      "source": [
        "# PLEASE EDIT THIS:\n",
        "project_folder_name = \"test-Han-2025-10-04\"\n",
        "video_type = \"mp4\" #, mp4, MOV, or avi, whatever you uploaded!\n",
        "\n",
        "# No need to edit this, we are going to assume you put videos you want to analyze\n",
        "# in the \"videos\" folder, but if this is NOT true, edit below:\n",
        "videofile_path = [f\"/content/drive/My Drive/{project_folder_name}/videos\"]\n",
        "print(videofile_path)\n",
        "\n",
        "# The prediction files and labeled videos will be saved in this `labeled-videos` folder\n",
        "# in your project folder; if you want them elsewhere, you can edit this;\n",
        "# if you want the output files in the same folder as the videos, set this to an empty string.\n",
        "destfolder = f\"/content/drive/My Drive/{project_folder_name}/labeled-videos\"\n",
        "\n",
        "#No need to edit this, as you set it when you passed the ProjectFolderName (above):\n",
        "path_config_file = f\"/content/drive/My Drive/{project_folder_name}/config.yaml\"\n",
        "print(path_config_file)\n",
        "\n",
        "# This creates a path variable that links to your Google Drive project"
      ]
    },
    {
      "cell_type": "markdown",
      "metadata": {
        "id": "xNi9s1dboEJN"
      },
      "source": [
        "## Create a training dataset:\n",
        "\n",
        "### You must do this step inside of Colab\n",
        "\n",
        "After running this script the training dataset is created and saved in the project directory under the subdirectory **'training-datasets'**\n",
        "\n",
        "This function also creates new subdirectories under **dlc-models-pytorch** and appends the project config.yaml file with the correct path to the training and testing pose configuration file. These files hold the parameters for training the network. Such an example file is provided with the toolbox and named as **pytorch_config.yaml**.\n",
        "\n",
        "Now it is the time to start training the network!"
      ]
    },
    {
      "cell_type": "code",
      "execution_count": 7,
      "metadata": {
        "colab": {
          "base_uri": "https://localhost:8080/"
        },
        "id": "eMeUwgxPoEJP",
        "scrolled": true,
        "outputId": "91e58c40-25e2-4f8b-cb55-a2cdb5c347b7"
      },
      "outputs": [
        {
          "output_type": "execute_result",
          "data": {
            "text/plain": [
              "[(0.95,\n",
              "  2,\n",
              "  (array([22, 20, 25,  4, 10, 15, 28, 11, 18, 29, 27, 35, 37,  2, 39, 30, 34,\n",
              "          16, 36,  8, 13,  5, 17, 14, 33,  7, 32,  1, 26, 12, 31, 24,  6, 23,\n",
              "          21, 19,  9, 38]),\n",
              "   array([3, 0])))]"
            ]
          },
          "metadata": {},
          "execution_count": 7
        }
      ],
      "source": [
        "# There are many more functions you can set here, including which network to use!\n",
        "# Check the docstring for `create_training_dataset` for all options you can use!\n",
        "\n",
        "deeplabcut.create_training_dataset(\n",
        "  path_config_file, net_type=\"resnet_50\", engine=deeplabcut.Engine.PYTORCH\n",
        ")"
      ]
    },
    {
      "cell_type": "markdown",
      "metadata": {
        "id": "c4FczXGDoEJU"
      },
      "source": [
        "## Start training:\n",
        "This function trains the network for a specific shuffle of the training dataset."
      ]
    },
    {
      "cell_type": "code",
      "execution_count": 8,
      "metadata": {
        "colab": {
          "base_uri": "https://localhost:8080/",
          "height": 1000,
          "referenced_widgets": [
            "0cd4a96dff0a4895b54c05519e97e2b9",
            "1ebd498dbf1a4781948ee6942546c5ab",
            "9f270bde53484819a3f8547637cd2a1a",
            "1c2ed3186e54402e89caadcdf847d804",
            "7129ca78941a4b9c917793acc4ccf2b9",
            "4fc01716a3574ca3b0588dd242212b87",
            "a06def617cb74925baeb234dacaf3170",
            "06a2da7519bc47889adff00bcc8c0aae",
            "5e43025106ef44d986f33a6ecc11d85d",
            "7253eaca6a5d4818bca049a992569196",
            "9b4df1970f734895acc02a012f51e87e"
          ]
        },
        "id": "_pOvDq_2oEJW",
        "outputId": "d3b7b2a6-6d8a-4d25-b333-f5e85a085307"
      },
      "outputs": [
        {
          "output_type": "stream",
          "name": "stderr",
          "text": [
            "Training with configuration:\n",
            "data:\n",
            "  bbox_margin: 20\n",
            "  colormode: RGB\n",
            "  inference:\n",
            "    normalize_images: True\n",
            "  train:\n",
            "    affine:\n",
            "      p: 0.5\n",
            "      rotation: 30\n",
            "      scaling: [0.5, 1.25]\n",
            "      translation: 0\n",
            "    crop_sampling:\n",
            "      width: 448\n",
            "      height: 448\n",
            "      max_shift: 0.1\n",
            "      method: hybrid\n",
            "    gaussian_noise: 12.75\n",
            "    motion_blur: True\n",
            "    normalize_images: True\n",
            "device: auto\n",
            "metadata:\n",
            "  project_path: /Users/hanyu/Desktop/test-Han-2025-10-04\n",
            "  pose_config_path: /Users/hanyu/Desktop/test-Han-2025-10-04/dlc-models-pytorch/iteration-0/testOct4-trainset95shuffle1/train/pytorch_config.yaml\n",
            "  bodyparts: ['nose', 'head', 'left_ear', 'right_ear', 'body_start', 'body_end', 'tail_end', 'tail_mid']\n",
            "  unique_bodyparts: []\n",
            "  individuals: ['animal']\n",
            "  with_identity: None\n",
            "method: bu\n",
            "model:\n",
            "  backbone:\n",
            "    type: ResNet\n",
            "    model_name: resnet50_gn\n",
            "    output_stride: 16\n",
            "    freeze_bn_stats: False\n",
            "    freeze_bn_weights: False\n",
            "  backbone_output_channels: 2048\n",
            "  heads:\n",
            "    bodypart:\n",
            "      type: HeatmapHead\n",
            "      weight_init: normal\n",
            "      predictor:\n",
            "        type: HeatmapPredictor\n",
            "        apply_sigmoid: False\n",
            "        clip_scores: True\n",
            "        location_refinement: True\n",
            "        locref_std: 7.2801\n",
            "      target_generator:\n",
            "        type: HeatmapGaussianGenerator\n",
            "        num_heatmaps: 8\n",
            "        pos_dist_thresh: 17\n",
            "        heatmap_mode: KEYPOINT\n",
            "        gradient_masking: False\n",
            "        generate_locref: True\n",
            "        locref_std: 7.2801\n",
            "      criterion:\n",
            "        heatmap:\n",
            "          type: WeightedMSECriterion\n",
            "          weight: 1.0\n",
            "        locref:\n",
            "          type: WeightedHuberCriterion\n",
            "          weight: 0.05\n",
            "      heatmap_config:\n",
            "        channels: [2048, 8]\n",
            "        kernel_size: [3]\n",
            "        strides: [2]\n",
            "      locref_config:\n",
            "        channels: [2048, 16]\n",
            "        kernel_size: [3]\n",
            "        strides: [2]\n",
            "net_type: resnet_50\n",
            "runner:\n",
            "  type: PoseTrainingRunner\n",
            "  gpus: None\n",
            "  key_metric: test.mAP\n",
            "  key_metric_asc: True\n",
            "  eval_interval: 10\n",
            "  optimizer:\n",
            "    type: AdamW\n",
            "    params:\n",
            "      lr: 0.0005\n",
            "  scheduler:\n",
            "    type: LRListScheduler\n",
            "    params:\n",
            "      lr_list: [[0.0001], [1e-05]]\n",
            "      milestones: [90, 120]\n",
            "  snapshots:\n",
            "    max_snapshots: 5\n",
            "    save_epochs: 5\n",
            "    save_optimizer_state: False\n",
            "train_settings:\n",
            "  batch_size: 8\n",
            "  dataloader_workers: 0\n",
            "  dataloader_pin_memory: False\n",
            "  display_iters: 500\n",
            "  epochs: 200\n",
            "  seed: 42\n",
            "Loading pretrained weights from Hugging Face hub (timm/resnet50_gn.a1h_in1k)\n",
            "/usr/local/lib/python3.12/dist-packages/huggingface_hub/utils/_auth.py:94: UserWarning: \n",
            "The secret `HF_TOKEN` does not exist in your Colab secrets.\n",
            "To authenticate with the Hugging Face Hub, create a token in your settings tab (https://huggingface.co/settings/tokens), set it as secret in your Google Colab and restart your session.\n",
            "You will be able to reuse this secret in all of your notebooks.\n",
            "Please note that authentication is recommended but still optional to access public models or datasets.\n",
            "  warnings.warn(\n"
          ]
        },
        {
          "output_type": "display_data",
          "data": {
            "text/plain": [
              "model.safetensors:   0%|          | 0.00/102M [00:00<?, ?B/s]"
            ],
            "application/vnd.jupyter.widget-view+json": {
              "version_major": 2,
              "version_minor": 0,
              "model_id": "0cd4a96dff0a4895b54c05519e97e2b9"
            }
          },
          "metadata": {}
        },
        {
          "output_type": "stream",
          "name": "stderr",
          "text": [
            "[timm/resnet50_gn.a1h_in1k] Safe alternative available for 'pytorch_model.bin' (as 'model.safetensors'). Loading weights using safetensors.\n",
            "Data Transforms:\n",
            "  Training:   Compose([\n",
            "  Affine(always_apply=False, p=0.5, interpolation=1, mask_interpolation=0, cval=0, mode=0, scale={'x': (0.5, 1.25), 'y': (0.5, 1.25)}, translate_percent=None, translate_px={'x': (0, 0), 'y': (0, 0)}, rotate=(-30, 30), fit_output=False, shear={'x': (0.0, 0.0), 'y': (0.0, 0.0)}, cval_mask=0, keep_ratio=True, rotate_method='largest_box'),\n",
            "  PadIfNeeded(always_apply=True, p=1.0, min_height=448, min_width=448, pad_height_divisor=None, pad_width_divisor=None, position=PositionType.CENTER, border_mode=0, value=None, mask_value=None),\n",
            "  KeypointAwareCrop(always_apply=True, p=1.0, width=448, height=448, max_shift=0.1, crop_sampling='hybrid'),\n",
            "  MotionBlur(always_apply=False, p=0.5, blur_limit=(3, 7), allow_shifted=True),\n",
            "  GaussNoise(always_apply=False, p=0.5, var_limit=(0, 162.5625), per_channel=True, mean=0),\n",
            "  Normalize(always_apply=False, p=1.0, mean=[0.485, 0.456, 0.406], std=[0.229, 0.224, 0.225], max_pixel_value=255.0),\n",
            "], p=1.0, bbox_params={'format': 'coco', 'label_fields': ['bbox_labels'], 'min_area': 0.0, 'min_visibility': 0.0, 'min_width': 0.0, 'min_height': 0.0, 'check_each_transform': True}, keypoint_params={'format': 'xy', 'label_fields': ['class_labels'], 'remove_invisible': False, 'angle_in_degrees': True, 'check_each_transform': True}, additional_targets={}, is_check_shapes=True)\n",
            "  Validation: Compose([\n",
            "  Normalize(always_apply=False, p=1.0, mean=[0.485, 0.456, 0.406], std=[0.229, 0.224, 0.225], max_pixel_value=255.0),\n",
            "], p=1.0, bbox_params={'format': 'coco', 'label_fields': ['bbox_labels'], 'min_area': 0.0, 'min_visibility': 0.0, 'min_width': 0.0, 'min_height': 0.0, 'check_each_transform': True}, keypoint_params={'format': 'xy', 'label_fields': ['class_labels'], 'remove_invisible': False, 'angle_in_degrees': True, 'check_each_transform': True}, additional_targets={}, is_check_shapes=True)\n",
            "Using 38 images and 2 for testing\n",
            "\n",
            "Starting pose model training...\n",
            "--------------------------------------------------\n",
            "Epoch 1/200 (lr=0.0005), train loss 0.01737, GPU: 7772.0/15095.1 MiB\n",
            "Epoch 2/200 (lr=0.0005), train loss 0.01484, GPU: 7772.0/15095.1 MiB\n",
            "Epoch 3/200 (lr=0.0005), train loss 0.01446, GPU: 7772.0/15095.1 MiB\n",
            "Epoch 4/200 (lr=0.0005), train loss 0.01355, GPU: 7772.0/15095.1 MiB\n",
            "Epoch 5/200 (lr=0.0005), train loss 0.01246, GPU: 7772.0/15095.1 MiB\n",
            "Epoch 6/200 (lr=0.0005), train loss 0.01172, GPU: 7772.0/15095.1 MiB\n",
            "Epoch 7/200 (lr=0.0005), train loss 0.01009, GPU: 7772.0/15095.1 MiB\n",
            "Epoch 8/200 (lr=0.0005), train loss 0.00957, GPU: 7772.0/15095.1 MiB\n",
            "Epoch 9/200 (lr=0.0005), train loss 0.00959, GPU: 7772.0/15095.1 MiB\n",
            "Training for epoch 10 done, starting evaluation\n",
            "Epoch 10/200 (lr=0.0005), train loss 0.00827, valid loss 0.01123, GPU: 7772.0/15095.1 MiB\n",
            "Model performance:\n",
            "  metrics/test.rmse:         353.87\n",
            "  metrics/test.rmse_pcutoff:    nan\n",
            "  metrics/test.mAP:           20.20\n",
            "  metrics/test.mAR:           20.00\n",
            "Epoch 11/200 (lr=0.0005), train loss 0.00760, GPU: 7772.0/15095.1 MiB\n",
            "Epoch 12/200 (lr=0.0005), train loss 0.00733, GPU: 7772.0/15095.1 MiB\n",
            "Epoch 13/200 (lr=0.0005), train loss 0.00721, GPU: 7772.0/15095.1 MiB\n",
            "Epoch 14/200 (lr=0.0005), train loss 0.00598, GPU: 7772.0/15095.1 MiB\n",
            "Epoch 15/200 (lr=0.0005), train loss 0.00570, GPU: 7772.0/15095.1 MiB\n",
            "Epoch 16/200 (lr=0.0005), train loss 0.00622, GPU: 7772.0/15095.1 MiB\n",
            "Epoch 17/200 (lr=0.0005), train loss 0.00530, GPU: 7772.0/15095.1 MiB\n",
            "Epoch 18/200 (lr=0.0005), train loss 0.00487, GPU: 7772.0/15095.1 MiB\n",
            "Epoch 19/200 (lr=0.0005), train loss 0.00451, GPU: 7772.0/15095.1 MiB\n",
            "Training for epoch 20 done, starting evaluation\n",
            "Epoch 20/200 (lr=0.0005), train loss 0.00589, valid loss 0.00510, GPU: 7772.0/15095.1 MiB\n",
            "Model performance:\n",
            "  metrics/test.rmse:          36.26\n",
            "  metrics/test.rmse_pcutoff:   7.70\n",
            "  metrics/test.mAP:           65.35\n",
            "  metrics/test.mAR:           65.00\n",
            "Epoch 21/200 (lr=0.0005), train loss 0.00521, GPU: 7772.0/15095.1 MiB\n",
            "Epoch 22/200 (lr=0.0005), train loss 0.00464, GPU: 7772.0/15095.1 MiB\n",
            "Epoch 23/200 (lr=0.0005), train loss 0.00448, GPU: 7772.0/15095.1 MiB\n",
            "Epoch 24/200 (lr=0.0005), train loss 0.00377, GPU: 7772.0/15095.1 MiB\n",
            "Epoch 25/200 (lr=0.0005), train loss 0.00392, GPU: 7772.0/15095.1 MiB\n",
            "Epoch 26/200 (lr=0.0005), train loss 0.00339, GPU: 7772.0/15095.1 MiB\n",
            "Epoch 27/200 (lr=0.0005), train loss 0.00358, GPU: 7772.0/15095.1 MiB\n",
            "Epoch 28/200 (lr=0.0005), train loss 0.00323, GPU: 7772.0/15095.1 MiB\n",
            "Epoch 29/200 (lr=0.0005), train loss 0.00332, GPU: 7772.0/15095.1 MiB\n",
            "Training for epoch 30 done, starting evaluation\n",
            "Epoch 30/200 (lr=0.0005), train loss 0.00289, valid loss 0.00385, GPU: 7772.0/15095.1 MiB\n",
            "Model performance:\n",
            "  metrics/test.rmse:         180.55\n",
            "  metrics/test.rmse_pcutoff:   5.09\n",
            "  metrics/test.mAP:           50.50\n",
            "  metrics/test.mAR:           50.00\n",
            "Epoch 31/200 (lr=0.0005), train loss 0.00302, GPU: 7772.0/15095.1 MiB\n",
            "Epoch 32/200 (lr=0.0005), train loss 0.00269, GPU: 7772.0/15095.1 MiB\n",
            "Epoch 33/200 (lr=0.0005), train loss 0.00291, GPU: 7772.0/15095.1 MiB\n",
            "Epoch 34/200 (lr=0.0005), train loss 0.00318, GPU: 7772.0/15095.1 MiB\n",
            "Epoch 35/200 (lr=0.0005), train loss 0.00274, GPU: 7772.0/15095.1 MiB\n",
            "Epoch 36/200 (lr=0.0005), train loss 0.00234, GPU: 7772.0/15095.1 MiB\n",
            "Epoch 37/200 (lr=0.0005), train loss 0.00249, GPU: 7772.0/15095.1 MiB\n",
            "Epoch 38/200 (lr=0.0005), train loss 0.00225, GPU: 7772.0/15095.1 MiB\n",
            "Epoch 39/200 (lr=0.0005), train loss 0.00218, GPU: 7772.0/15095.1 MiB\n",
            "Training for epoch 40 done, starting evaluation\n",
            "Epoch 40/200 (lr=0.0005), train loss 0.00239, valid loss 0.00314, GPU: 7772.0/15095.1 MiB\n",
            "Model performance:\n",
            "  metrics/test.rmse:          47.01\n",
            "  metrics/test.rmse_pcutoff:   4.79\n",
            "  metrics/test.mAP:           85.15\n",
            "  metrics/test.mAR:           85.00\n",
            "Epoch 41/200 (lr=0.0005), train loss 0.00230, GPU: 7772.0/15095.1 MiB\n",
            "Epoch 42/200 (lr=0.0005), train loss 0.00275, GPU: 7772.0/15095.1 MiB\n",
            "Epoch 43/200 (lr=0.0005), train loss 0.00242, GPU: 7772.0/15095.1 MiB\n",
            "Epoch 44/200 (lr=0.0005), train loss 0.00272, GPU: 7772.0/15095.1 MiB\n",
            "Epoch 45/200 (lr=0.0005), train loss 0.00301, GPU: 7772.0/15095.1 MiB\n",
            "Epoch 46/200 (lr=0.0005), train loss 0.00241, GPU: 7772.0/15095.1 MiB\n",
            "Epoch 47/200 (lr=0.0005), train loss 0.00233, GPU: 7772.0/15095.1 MiB\n",
            "Epoch 48/200 (lr=0.0005), train loss 0.00252, GPU: 7772.0/15095.1 MiB\n",
            "Epoch 49/200 (lr=0.0005), train loss 0.00191, GPU: 7772.0/15095.1 MiB\n",
            "Training for epoch 50 done, starting evaluation\n",
            "Epoch 50/200 (lr=0.0005), train loss 0.00158, valid loss 0.00438, GPU: 7772.0/15095.1 MiB\n",
            "Model performance:\n",
            "  metrics/test.rmse:         184.07\n",
            "  metrics/test.rmse_pcutoff:   3.84\n",
            "  metrics/test.mAP:           50.50\n",
            "  metrics/test.mAR:           50.00\n",
            "Epoch 51/200 (lr=0.0005), train loss 0.00166, GPU: 7772.0/15095.1 MiB\n",
            "Epoch 52/200 (lr=0.0005), train loss 0.00214, GPU: 7772.0/15095.1 MiB\n",
            "Epoch 53/200 (lr=0.0005), train loss 0.00249, GPU: 7772.0/15095.1 MiB\n",
            "Epoch 54/200 (lr=0.0005), train loss 0.00219, GPU: 7772.0/15095.1 MiB\n",
            "Epoch 55/200 (lr=0.0005), train loss 0.00222, GPU: 7772.0/15095.1 MiB\n",
            "Epoch 56/200 (lr=0.0005), train loss 0.00224, GPU: 7772.0/15095.1 MiB\n",
            "Epoch 57/200 (lr=0.0005), train loss 0.00216, GPU: 7772.0/15095.1 MiB\n",
            "Epoch 58/200 (lr=0.0005), train loss 0.00170, GPU: 7772.0/15095.1 MiB\n",
            "Epoch 59/200 (lr=0.0005), train loss 0.00263, GPU: 7772.0/15095.1 MiB\n",
            "Training for epoch 60 done, starting evaluation\n",
            "Epoch 60/200 (lr=0.0005), train loss 0.00221, valid loss 0.00411, GPU: 7772.0/15095.1 MiB\n",
            "Model performance:\n",
            "  metrics/test.rmse:           5.91\n",
            "  metrics/test.rmse_pcutoff:   3.40\n",
            "  metrics/test.mAP:           95.05\n",
            "  metrics/test.mAR:           95.00\n",
            "Epoch 61/200 (lr=0.0005), train loss 0.00206, GPU: 7772.0/15095.1 MiB\n",
            "Epoch 62/200 (lr=0.0005), train loss 0.00207, GPU: 7772.0/15095.1 MiB\n",
            "Epoch 63/200 (lr=0.0005), train loss 0.00176, GPU: 7772.0/15095.1 MiB\n",
            "Epoch 64/200 (lr=0.0005), train loss 0.00208, GPU: 7772.0/15095.1 MiB\n",
            "Epoch 65/200 (lr=0.0005), train loss 0.00191, GPU: 7772.0/15095.1 MiB\n",
            "Epoch 66/200 (lr=0.0005), train loss 0.00153, GPU: 7772.0/15095.1 MiB\n",
            "Epoch 67/200 (lr=0.0005), train loss 0.00160, GPU: 7772.0/15095.1 MiB\n",
            "Epoch 68/200 (lr=0.0005), train loss 0.00186, GPU: 7772.0/15095.1 MiB\n",
            "Epoch 69/200 (lr=0.0005), train loss 0.00155, GPU: 7772.0/15095.1 MiB\n",
            "Training for epoch 70 done, starting evaluation\n",
            "Epoch 70/200 (lr=0.0005), train loss 0.00147, valid loss 0.00344, GPU: 7772.0/15095.1 MiB\n",
            "Model performance:\n",
            "  metrics/test.rmse:          35.73\n",
            "  metrics/test.rmse_pcutoff:   4.21\n",
            "  metrics/test.mAP:           85.15\n",
            "  metrics/test.mAR:           85.00\n",
            "Epoch 71/200 (lr=0.0005), train loss 0.00157, GPU: 7772.0/15095.1 MiB\n",
            "Epoch 72/200 (lr=0.0005), train loss 0.00151, GPU: 7772.0/15095.1 MiB\n",
            "Epoch 73/200 (lr=0.0005), train loss 0.00142, GPU: 7772.0/15095.1 MiB\n",
            "Epoch 74/200 (lr=0.0005), train loss 0.00131, GPU: 7772.0/15095.1 MiB\n",
            "Epoch 75/200 (lr=0.0005), train loss 0.00151, GPU: 7772.0/15095.1 MiB\n",
            "Epoch 76/200 (lr=0.0005), train loss 0.00162, GPU: 7772.0/15095.1 MiB\n",
            "Epoch 77/200 (lr=0.0005), train loss 0.00167, GPU: 7772.0/15095.1 MiB\n",
            "Epoch 78/200 (lr=0.0005), train loss 0.00175, GPU: 7772.0/15095.1 MiB\n",
            "Epoch 79/200 (lr=0.0005), train loss 0.00169, GPU: 7772.0/15095.1 MiB\n",
            "Training for epoch 80 done, starting evaluation\n",
            "Epoch 80/200 (lr=0.0005), train loss 0.00134, valid loss 0.00320, GPU: 7772.0/15095.1 MiB\n",
            "Model performance:\n",
            "  metrics/test.rmse:          23.16\n",
            "  metrics/test.rmse_pcutoff:   3.14\n",
            "  metrics/test.mAP:           85.15\n",
            "  metrics/test.mAR:           85.00\n",
            "Epoch 81/200 (lr=0.0005), train loss 0.00132, GPU: 7772.0/15095.1 MiB\n",
            "Epoch 82/200 (lr=0.0005), train loss 0.00169, GPU: 7772.0/15095.1 MiB\n",
            "Epoch 83/200 (lr=0.0005), train loss 0.00161, GPU: 7772.0/15095.1 MiB\n",
            "Epoch 84/200 (lr=0.0005), train loss 0.00173, GPU: 7772.0/15095.1 MiB\n",
            "Epoch 85/200 (lr=0.0005), train loss 0.00156, GPU: 7772.0/15095.1 MiB\n",
            "Epoch 86/200 (lr=0.0005), train loss 0.00177, GPU: 7772.0/15095.1 MiB\n",
            "Epoch 87/200 (lr=0.0005), train loss 0.00152, GPU: 7772.0/15095.1 MiB\n",
            "Epoch 88/200 (lr=0.0005), train loss 0.00139, GPU: 7772.0/15095.1 MiB\n",
            "Epoch 89/200 (lr=0.0005), train loss 0.00134, GPU: 7772.0/15095.1 MiB\n",
            "Training for epoch 90 done, starting evaluation\n",
            "Epoch 90/200 (lr=0.0001), train loss 0.00134, valid loss 0.00395, GPU: 7772.0/15095.1 MiB\n",
            "Model performance:\n",
            "  metrics/test.rmse:          47.70\n",
            "  metrics/test.rmse_pcutoff:   3.88\n",
            "  metrics/test.mAP:           80.20\n",
            "  metrics/test.mAR:           80.00\n",
            "Epoch 91/200 (lr=0.0001), train loss 0.00129, GPU: 7772.0/15095.1 MiB\n",
            "Epoch 92/200 (lr=0.0001), train loss 0.00124, GPU: 7772.0/15095.1 MiB\n",
            "Epoch 93/200 (lr=0.0001), train loss 0.00127, GPU: 7772.0/15095.1 MiB\n",
            "Epoch 94/200 (lr=0.0001), train loss 0.00136, GPU: 7772.0/15095.1 MiB\n",
            "Epoch 95/200 (lr=0.0001), train loss 0.00120, GPU: 7772.0/15095.1 MiB\n",
            "Epoch 96/200 (lr=0.0001), train loss 0.00099, GPU: 7772.0/15095.1 MiB\n",
            "Epoch 97/200 (lr=0.0001), train loss 0.00104, GPU: 7772.0/15095.1 MiB\n",
            "Epoch 98/200 (lr=0.0001), train loss 0.00099, GPU: 7772.0/15095.1 MiB\n",
            "Epoch 99/200 (lr=0.0001), train loss 0.00102, GPU: 7772.0/15095.1 MiB\n",
            "Training for epoch 100 done, starting evaluation\n",
            "Epoch 100/200 (lr=0.0001), train loss 0.00115, valid loss 0.00271, GPU: 7772.0/15095.1 MiB\n",
            "Model performance:\n",
            "  metrics/test.rmse:          38.81\n",
            "  metrics/test.rmse_pcutoff:   2.58\n",
            "  metrics/test.mAP:           85.15\n",
            "  metrics/test.mAR:           85.00\n",
            "Epoch 101/200 (lr=0.0001), train loss 0.00079, GPU: 7772.0/15095.1 MiB\n",
            "Epoch 102/200 (lr=0.0001), train loss 0.00083, GPU: 7772.0/15095.1 MiB\n",
            "Epoch 103/200 (lr=0.0001), train loss 0.00094, GPU: 7772.0/15095.1 MiB\n",
            "Epoch 104/200 (lr=0.0001), train loss 0.00085, GPU: 7772.0/15095.1 MiB\n",
            "Epoch 105/200 (lr=0.0001), train loss 0.00086, GPU: 7772.0/15095.1 MiB\n",
            "Epoch 106/200 (lr=0.0001), train loss 0.00094, GPU: 7772.0/15095.1 MiB\n",
            "Epoch 107/200 (lr=0.0001), train loss 0.00074, GPU: 7772.0/15095.1 MiB\n",
            "Epoch 108/200 (lr=0.0001), train loss 0.00076, GPU: 7772.0/15095.1 MiB\n",
            "Epoch 109/200 (lr=0.0001), train loss 0.00078, GPU: 7772.0/15095.1 MiB\n",
            "Training for epoch 110 done, starting evaluation\n",
            "Epoch 110/200 (lr=0.0001), train loss 0.00086, valid loss 0.00304, GPU: 7772.0/15095.1 MiB\n",
            "Model performance:\n",
            "  metrics/test.rmse:          39.74\n",
            "  metrics/test.rmse_pcutoff:   2.63\n",
            "  metrics/test.mAP:           80.20\n",
            "  metrics/test.mAR:           80.00\n",
            "Epoch 111/200 (lr=0.0001), train loss 0.00081, GPU: 7772.0/15095.1 MiB\n",
            "Epoch 112/200 (lr=0.0001), train loss 0.00088, GPU: 7772.0/15095.1 MiB\n",
            "Epoch 113/200 (lr=0.0001), train loss 0.00106, GPU: 7772.0/15095.1 MiB\n",
            "Epoch 114/200 (lr=0.0001), train loss 0.00084, GPU: 7772.0/15095.1 MiB\n",
            "Epoch 115/200 (lr=0.0001), train loss 0.00088, GPU: 7772.0/15095.1 MiB\n",
            "Epoch 116/200 (lr=0.0001), train loss 0.00077, GPU: 7772.0/15095.1 MiB\n",
            "Epoch 117/200 (lr=0.0001), train loss 0.00094, GPU: 7772.0/15095.1 MiB\n",
            "Epoch 118/200 (lr=0.0001), train loss 0.00079, GPU: 7772.0/15095.1 MiB\n",
            "Epoch 119/200 (lr=0.0001), train loss 0.00078, GPU: 7772.0/15095.1 MiB\n",
            "Training for epoch 120 done, starting evaluation\n",
            "Epoch 120/200 (lr=1e-05), train loss 0.00079, valid loss 0.00240, GPU: 7772.0/15095.1 MiB\n",
            "Model performance:\n",
            "  metrics/test.rmse:          38.60\n",
            "  metrics/test.rmse_pcutoff:   2.35\n",
            "  metrics/test.mAP:           85.15\n",
            "  metrics/test.mAR:           85.00\n",
            "Epoch 121/200 (lr=1e-05), train loss 0.00084, GPU: 7772.0/15095.1 MiB\n",
            "Epoch 122/200 (lr=1e-05), train loss 0.00092, GPU: 7772.0/15095.1 MiB\n",
            "Epoch 123/200 (lr=1e-05), train loss 0.00071, GPU: 7772.0/15095.1 MiB\n",
            "Epoch 124/200 (lr=1e-05), train loss 0.00080, GPU: 7772.0/15095.1 MiB\n",
            "Epoch 125/200 (lr=1e-05), train loss 0.00064, GPU: 7772.0/15095.1 MiB\n",
            "Epoch 126/200 (lr=1e-05), train loss 0.00074, GPU: 7772.0/15095.1 MiB\n",
            "Epoch 127/200 (lr=1e-05), train loss 0.00068, GPU: 7772.0/15095.1 MiB\n",
            "Epoch 128/200 (lr=1e-05), train loss 0.00086, GPU: 7772.0/15095.1 MiB\n",
            "Epoch 129/200 (lr=1e-05), train loss 0.00073, GPU: 7772.0/15095.1 MiB\n",
            "Training for epoch 130 done, starting evaluation\n",
            "Epoch 130/200 (lr=1e-05), train loss 0.00073, valid loss 0.00252, GPU: 7772.0/15095.1 MiB\n",
            "Model performance:\n",
            "  metrics/test.rmse:          38.78\n",
            "  metrics/test.rmse_pcutoff:   2.42\n",
            "  metrics/test.mAP:           85.15\n",
            "  metrics/test.mAR:           85.00\n",
            "Epoch 131/200 (lr=1e-05), train loss 0.00112, GPU: 7772.0/15095.1 MiB\n",
            "Epoch 132/200 (lr=1e-05), train loss 0.00088, GPU: 7772.0/15095.1 MiB\n",
            "Epoch 133/200 (lr=1e-05), train loss 0.00076, GPU: 7772.0/15095.1 MiB\n",
            "Epoch 134/200 (lr=1e-05), train loss 0.00080, GPU: 7772.0/15095.1 MiB\n",
            "Epoch 135/200 (lr=1e-05), train loss 0.00080, GPU: 7772.0/15095.1 MiB\n",
            "Epoch 136/200 (lr=1e-05), train loss 0.00081, GPU: 7772.0/15095.1 MiB\n",
            "Epoch 137/200 (lr=1e-05), train loss 0.00079, GPU: 7772.0/15095.1 MiB\n",
            "Epoch 138/200 (lr=1e-05), train loss 0.00083, GPU: 7772.0/15095.1 MiB\n",
            "Epoch 139/200 (lr=1e-05), train loss 0.00107, GPU: 7772.0/15095.1 MiB\n",
            "Training for epoch 140 done, starting evaluation\n",
            "Epoch 140/200 (lr=1e-05), train loss 0.00087, valid loss 0.00246, GPU: 7772.0/15095.1 MiB\n",
            "Model performance:\n",
            "  metrics/test.rmse:          38.74\n",
            "  metrics/test.rmse_pcutoff:   2.42\n",
            "  metrics/test.mAP:           85.15\n",
            "  metrics/test.mAR:           85.00\n",
            "Epoch 141/200 (lr=1e-05), train loss 0.00075, GPU: 7772.0/15095.1 MiB\n",
            "Epoch 142/200 (lr=1e-05), train loss 0.00068, GPU: 7772.0/15095.1 MiB\n",
            "Epoch 143/200 (lr=1e-05), train loss 0.00057, GPU: 7772.0/15095.1 MiB\n",
            "Epoch 144/200 (lr=1e-05), train loss 0.00074, GPU: 7772.0/15095.1 MiB\n",
            "Epoch 145/200 (lr=1e-05), train loss 0.00079, GPU: 7772.0/15095.1 MiB\n",
            "Epoch 146/200 (lr=1e-05), train loss 0.00063, GPU: 7772.0/15095.1 MiB\n",
            "Epoch 147/200 (lr=1e-05), train loss 0.00072, GPU: 7772.0/15095.1 MiB\n",
            "Epoch 148/200 (lr=1e-05), train loss 0.00096, GPU: 7772.0/15095.1 MiB\n",
            "Epoch 149/200 (lr=1e-05), train loss 0.00078, GPU: 7772.0/15095.1 MiB\n",
            "Training for epoch 150 done, starting evaluation\n",
            "Epoch 150/200 (lr=1e-05), train loss 0.00072, valid loss 0.00251, GPU: 7772.0/15095.1 MiB\n",
            "Model performance:\n",
            "  metrics/test.rmse:          38.78\n",
            "  metrics/test.rmse_pcutoff:   2.44\n",
            "  metrics/test.mAP:           85.15\n",
            "  metrics/test.mAR:           85.00\n",
            "Epoch 151/200 (lr=1e-05), train loss 0.00079, GPU: 7772.0/15095.1 MiB\n",
            "Epoch 152/200 (lr=1e-05), train loss 0.00064, GPU: 7772.0/15095.1 MiB\n",
            "Epoch 153/200 (lr=1e-05), train loss 0.00059, GPU: 7772.0/15095.1 MiB\n",
            "Epoch 154/200 (lr=1e-05), train loss 0.00068, GPU: 7772.0/15095.1 MiB\n",
            "Epoch 155/200 (lr=1e-05), train loss 0.00056, GPU: 7772.0/15095.1 MiB\n",
            "Epoch 156/200 (lr=1e-05), train loss 0.00080, GPU: 7772.0/15095.1 MiB\n",
            "Epoch 157/200 (lr=1e-05), train loss 0.00060, GPU: 7772.0/15095.1 MiB\n",
            "Epoch 158/200 (lr=1e-05), train loss 0.00062, GPU: 7772.0/15095.1 MiB\n",
            "Epoch 159/200 (lr=1e-05), train loss 0.00062, GPU: 7772.0/15095.1 MiB\n",
            "Training for epoch 160 done, starting evaluation\n",
            "Epoch 160/200 (lr=1e-05), train loss 0.00098, valid loss 0.00250, GPU: 7772.0/15095.1 MiB\n",
            "Model performance:\n",
            "  metrics/test.rmse:          38.76\n",
            "  metrics/test.rmse_pcutoff:   2.41\n",
            "  metrics/test.mAP:           85.15\n",
            "  metrics/test.mAR:           85.00\n",
            "Epoch 161/200 (lr=1e-05), train loss 0.00047, GPU: 7772.0/15095.1 MiB\n",
            "Epoch 162/200 (lr=1e-05), train loss 0.00096, GPU: 7772.0/15095.1 MiB\n",
            "Epoch 163/200 (lr=1e-05), train loss 0.00053, GPU: 7772.0/15095.1 MiB\n",
            "Epoch 164/200 (lr=1e-05), train loss 0.00084, GPU: 7772.0/15095.1 MiB\n",
            "Epoch 165/200 (lr=1e-05), train loss 0.00070, GPU: 7772.0/15095.1 MiB\n",
            "Epoch 166/200 (lr=1e-05), train loss 0.00072, GPU: 7772.0/15095.1 MiB\n",
            "Epoch 167/200 (lr=1e-05), train loss 0.00080, GPU: 7772.0/15095.1 MiB\n",
            "Epoch 168/200 (lr=1e-05), train loss 0.00074, GPU: 7772.0/15095.1 MiB\n",
            "Epoch 169/200 (lr=1e-05), train loss 0.00064, GPU: 7772.0/15095.1 MiB\n",
            "Training for epoch 170 done, starting evaluation\n",
            "Epoch 170/200 (lr=1e-05), train loss 0.00070, valid loss 0.00261, GPU: 7772.0/15095.1 MiB\n",
            "Model performance:\n",
            "  metrics/test.rmse:          38.84\n",
            "  metrics/test.rmse_pcutoff:   2.48\n",
            "  metrics/test.mAP:           85.15\n",
            "  metrics/test.mAR:           85.00\n",
            "Epoch 171/200 (lr=1e-05), train loss 0.00074, GPU: 7772.0/15095.1 MiB\n",
            "Epoch 172/200 (lr=1e-05), train loss 0.00066, GPU: 7772.0/15095.1 MiB\n",
            "Epoch 173/200 (lr=1e-05), train loss 0.00087, GPU: 7772.0/15095.1 MiB\n",
            "Epoch 174/200 (lr=1e-05), train loss 0.00068, GPU: 7772.0/15095.1 MiB\n",
            "Epoch 175/200 (lr=1e-05), train loss 0.00056, GPU: 7772.0/15095.1 MiB\n",
            "Epoch 176/200 (lr=1e-05), train loss 0.00067, GPU: 7772.0/15095.1 MiB\n",
            "Epoch 177/200 (lr=1e-05), train loss 0.00077, GPU: 7772.0/15095.1 MiB\n",
            "Epoch 178/200 (lr=1e-05), train loss 0.00081, GPU: 7772.0/15095.1 MiB\n",
            "Epoch 179/200 (lr=1e-05), train loss 0.00082, GPU: 7772.0/15095.1 MiB\n",
            "Training for epoch 180 done, starting evaluation\n",
            "Epoch 180/200 (lr=1e-05), train loss 0.00087, valid loss 0.00253, GPU: 7772.0/15095.1 MiB\n",
            "Model performance:\n",
            "  metrics/test.rmse:          38.81\n",
            "  metrics/test.rmse_pcutoff:   2.47\n",
            "  metrics/test.mAP:           85.15\n",
            "  metrics/test.mAR:           85.00\n",
            "Epoch 181/200 (lr=1e-05), train loss 0.00074, GPU: 7772.0/15095.1 MiB\n",
            "Epoch 182/200 (lr=1e-05), train loss 0.00072, GPU: 7772.0/15095.1 MiB\n",
            "Epoch 183/200 (lr=1e-05), train loss 0.00077, GPU: 7772.0/15095.1 MiB\n",
            "Epoch 184/200 (lr=1e-05), train loss 0.00053, GPU: 7772.0/15095.1 MiB\n",
            "Epoch 185/200 (lr=1e-05), train loss 0.00063, GPU: 7772.0/15095.1 MiB\n",
            "Epoch 186/200 (lr=1e-05), train loss 0.00074, GPU: 7772.0/15095.1 MiB\n",
            "Epoch 187/200 (lr=1e-05), train loss 0.00094, GPU: 7772.0/15095.1 MiB\n",
            "Epoch 188/200 (lr=1e-05), train loss 0.00084, GPU: 7772.0/15095.1 MiB\n",
            "Epoch 189/200 (lr=1e-05), train loss 0.00076, GPU: 7772.0/15095.1 MiB\n",
            "Training for epoch 190 done, starting evaluation\n",
            "Epoch 190/200 (lr=1e-05), train loss 0.00073, valid loss 0.00246, GPU: 7772.0/15095.1 MiB\n",
            "Model performance:\n",
            "  metrics/test.rmse:          38.80\n",
            "  metrics/test.rmse_pcutoff:   2.48\n",
            "  metrics/test.mAP:           85.15\n",
            "  metrics/test.mAR:           85.00\n",
            "Epoch 191/200 (lr=1e-05), train loss 0.00065, GPU: 7772.0/15095.1 MiB\n",
            "Epoch 192/200 (lr=1e-05), train loss 0.00065, GPU: 7772.0/15095.1 MiB\n",
            "Epoch 193/200 (lr=1e-05), train loss 0.00073, GPU: 7772.0/15095.1 MiB\n",
            "Epoch 194/200 (lr=1e-05), train loss 0.00066, GPU: 7772.0/15095.1 MiB\n",
            "Epoch 195/200 (lr=1e-05), train loss 0.00066, GPU: 7772.0/15095.1 MiB\n",
            "Epoch 196/200 (lr=1e-05), train loss 0.00074, GPU: 7772.0/15095.1 MiB\n",
            "Epoch 197/200 (lr=1e-05), train loss 0.00069, GPU: 7772.0/15095.1 MiB\n",
            "Epoch 198/200 (lr=1e-05), train loss 0.00081, GPU: 7772.0/15095.1 MiB\n",
            "Epoch 199/200 (lr=1e-05), train loss 0.00074, GPU: 7772.0/15095.1 MiB\n",
            "Training for epoch 200 done, starting evaluation\n",
            "Epoch 200/200 (lr=1e-05), train loss 0.00088, valid loss 0.00250, GPU: 7772.0/15095.1 MiB\n",
            "Model performance:\n",
            "  metrics/test.rmse:          38.83\n",
            "  metrics/test.rmse_pcutoff:   2.52\n",
            "  metrics/test.mAP:           85.15\n",
            "  metrics/test.mAR:           85.00\n"
          ]
        }
      ],
      "source": [
        "# Let's also change the display and save_epochs just in case Colab takes away\n",
        "# the GPU... If that happens, you can reload from a saved point using the\n",
        "# `snapshot_path` argument to `deeplabcut.train_network`:\n",
        "#   deeplabcut.train_network(..., snapshot_path=\"/content/.../snapshot-050.pt\")\n",
        "\n",
        "# Typically, you want to train to ~200 epochs. We set the batch size to 8 to\n",
        "# utilize the GPU's capabilities.\n",
        "\n",
        "# More info and there are more things you can set:\n",
        "#   https://deeplabcut.github.io/DeepLabCut/docs/standardDeepLabCut_UserGuide.html#g-train-the-network\n",
        "\n",
        "deeplabcut.train_network(\n",
        "    path_config_file,\n",
        "    shuffle=1,\n",
        "    save_epochs=5,\n",
        "    epochs=200,\n",
        "    batch_size=8,\n",
        ")\n",
        "\n",
        "# This will run until you stop it (CTRL+C), or hit \"STOP\" icon, or when it hits the end."
      ]
    },
    {
      "cell_type": "markdown",
      "metadata": {
        "id": "RiDwIVf5-3H_"
      },
      "source": [
        "Note, that **when you hit \"STOP\" you will get a `KeyboardInterrupt` \"error\"! No worries! :)**"
      ]
    },
    {
      "cell_type": "markdown",
      "metadata": {
        "id": "xZygsb2DoEJc"
      },
      "source": [
        "## Start evaluating:\n",
        "This function evaluates a trained model for a specific shuffle/shuffles at a particular state or all the states on the data set (images)\n",
        "and stores the results as .csv file in a subdirectory under **evaluation-results-pytorch**"
      ]
    },
    {
      "cell_type": "code",
      "execution_count": 9,
      "metadata": {
        "colab": {
          "base_uri": "https://localhost:8080/"
        },
        "id": "nv4zlbrnoEJg",
        "outputId": "86e9213c-706d-47ea-e813-19204dde0b95"
      },
      "outputs": [
        {
          "output_type": "stream",
          "name": "stdout",
          "text": [
            "Evaluation scorer: DLC_Resnet50_testOct4shuffle1_snapshot_best-60\n"
          ]
        },
        {
          "output_type": "stream",
          "name": "stderr",
          "text": [
            "100%|██████████| 38/38 [00:10<00:00,  3.60it/s]\n",
            "100%|██████████| 2/2 [00:00<00:00,  5.24it/s]\n"
          ]
        },
        {
          "output_type": "stream",
          "name": "stdout",
          "text": [
            "Evaluation results file: DLC_Resnet50_testOct4shuffle1_snapshot_best-60-results.csv\n",
            "Evaluation results for DLC_Resnet50_testOct4shuffle1_snapshot_best-60-results.csv (pcutoff: 0.1):\n",
            "train rmse             8.98\n",
            "train rmse_pcutoff     8.98\n",
            "train mAP             95.77\n",
            "train mAR             96.58\n",
            "test rmse              5.91\n",
            "test rmse_pcutoff      5.91\n",
            "test mAP              95.05\n",
            "test mAR              95.00\n",
            "Name: (0.95, 1, 60, -1, 0.1), dtype: float64\n"
          ]
        }
      ],
      "source": [
        "deeplabcut.evaluate_network(path_config_file, plotting=True)\n",
        "\n",
        "# Here you want to see a low pixel error! Of course, it can only be as\n",
        "# good as the labeler, so be sure your labels are good!\n"
      ]
    },
    {
      "cell_type": "markdown",
      "metadata": {
        "id": "BaLBl3TQtrfB"
      },
      "source": [
        "## There is an optional refinement step you can do outside of Colab:\n",
        "- if your pixel errors are not low enough, please check out the protocol guide on how to refine your network!\n",
        "- You will need to adjust the labels **outside of Colab!** We recommend coming back to train and analyze videos...\n",
        "- Please see the repo and protocol instructions on how to refine your data!"
      ]
    },
    {
      "cell_type": "markdown",
      "metadata": {
        "id": "OVFLSKKfoEJk"
      },
      "source": [
        "## Start Analyzing videos:\n",
        "This function analyzes the new video. The user can choose the best model from the evaluation results and specify the correct snapshot index for the variable **snapshotindex** in the **config.yaml** file. Otherwise, by default the most recent snapshot is used to analyse the video.\n",
        "\n",
        "The results are stored in hd5 file in the same directory where the video resides."
      ]
    },
    {
      "cell_type": "code",
      "execution_count": 10,
      "metadata": {
        "colab": {
          "base_uri": "https://localhost:8080/",
          "height": 359
        },
        "id": "Y_LZiS_0oEJl",
        "outputId": "a8da8145-6556-456c-f7f5-c45caebe38b7"
      },
      "outputs": [
        {
          "output_type": "stream",
          "name": "stdout",
          "text": [
            "Creating the output folder /content/drive/My Drive/test-Han-2025-10-04/labeled-videos\n",
            "Analyzing videos with /content/drive/My Drive/test-Han-2025-10-04/dlc-models-pytorch/iteration-0/testOct4-trainset95shuffle1/train/snapshot-best-060.pt\n",
            "Using scorer: DLC_Resnet50_testOct4shuffle1_snapshot_best-60\n",
            "Starting to analyze /content/drive/My Drive/test-Han-2025-10-04/videos/test.mp4\n",
            "Video metadata: \n",
            "  Overall # of frames:    3621\n",
            "  Duration of video [s]:  120.70\n",
            "  fps:                    30.0\n",
            "  resolution:             w=1920, h=1080\n",
            "\n",
            "Running pose prediction with batch size 8\n"
          ]
        },
        {
          "output_type": "stream",
          "name": "stderr",
          "text": [
            "100%|██████████| 3621/3621 [16:01<00:00,  3.77it/s]\n"
          ]
        },
        {
          "output_type": "stream",
          "name": "stdout",
          "text": [
            "Saving results in /content/drive/My Drive/test-Han-2025-10-04/labeled-videos/testDLC_Resnet50_testOct4shuffle1_snapshot_best-60.h5 and /content/drive/My Drive/test-Han-2025-10-04/labeled-videos/testDLC_Resnet50_testOct4shuffle1_snapshot_best-60_full.pickle\n",
            "The videos are analyzed. Now your research can truly start!\n",
            "You can create labeled videos with 'create_labeled_video'.\n",
            "If the tracking is not satisfactory for some videos, consider expanding the training set. You can use the function 'extract_outlier_frames' to extract a few representative outlier frames.\n",
            "\n"
          ]
        },
        {
          "output_type": "execute_result",
          "data": {
            "text/plain": [
              "'DLC_Resnet50_testOct4shuffle1_snapshot_best-60'"
            ],
            "application/vnd.google.colaboratory.intrinsic+json": {
              "type": "string"
            }
          },
          "metadata": {},
          "execution_count": 10
        }
      ],
      "source": [
        "deeplabcut.analyze_videos(\n",
        "    path_config_file,\n",
        "    videofile_path,\n",
        "    videotype=video_type,\n",
        "    destfolder=destfolder,\n",
        ")"
      ]
    },
    {
      "cell_type": "markdown",
      "metadata": {
        "id": "8GTiuJESoEKH"
      },
      "source": [
        "## Plot the trajectories of the analyzed videos:\n",
        "This function plots the trajectories of all the body parts across the entire video. Each body part is identified by a unique color."
      ]
    },
    {
      "cell_type": "code",
      "execution_count": 11,
      "metadata": {
        "colab": {
          "base_uri": "https://localhost:8080/"
        },
        "id": "gX21zZbXoEKJ",
        "outputId": "6d69e768-40ca-4b1d-c6c9-c063060c0375"
      },
      "outputs": [
        {
          "output_type": "stream",
          "name": "stdout",
          "text": [
            "Analyzing all the videos in the directory...\n",
            "Loading  /content/drive/My Drive/test-Han-2025-10-04/videos/test.mp4 and data.\n",
            "Plots created! Please check the directory \"plot-poses\" within the video directory\n"
          ]
        }
      ],
      "source": [
        "deeplabcut.plot_trajectories(\n",
        "    path_config_file,\n",
        "    videofile_path,\n",
        "    videotype=video_type,\n",
        "    destfolder=destfolder,\n",
        ")"
      ]
    },
    {
      "cell_type": "markdown",
      "metadata": {
        "id": "pqaCw15v8EmB"
      },
      "source": [
        "Now you can look at the plot-poses file and check the \"plot-likelihood.png\" might want to change the \"p-cutoff\" in the config.yaml file so that you have only high confidnece points plotted in the video. i.e. ~0.8 or 0.9. The current default is 0.4."
      ]
    },
    {
      "cell_type": "markdown",
      "metadata": {
        "id": "pCrUvQIvoEKD"
      },
      "source": [
        "## Create labeled video:\n",
        "This function is for visualization purpose and can be used to create a video in .mp4 format with labels predicted by the network. This video is saved in the same directory where the original video resides."
      ]
    },
    {
      "cell_type": "code",
      "execution_count": 12,
      "metadata": {
        "colab": {
          "base_uri": "https://localhost:8080/"
        },
        "id": "6aDF7Q7KoEKE",
        "outputId": "c95d9d73-9507-40c4-eb2f-e31b5a16dede"
      },
      "outputs": [
        {
          "output_type": "stream",
          "name": "stdout",
          "text": [
            "Analyzing all the videos in the directory...\n",
            "Starting to process video: /content/drive/My Drive/test-Han-2025-10-04/videos/test.mp4\n",
            "Loading /content/drive/My Drive/test-Han-2025-10-04/videos/test.mp4 and data.\n",
            "Duration of video [s]: 120.7, recorded with 30.0 fps!\n",
            "Overall # of frames: 3621 with cropped frame dimensions: 1920 1080\n",
            "Generating frames and creating video.\n"
          ]
        },
        {
          "output_type": "stream",
          "name": "stderr",
          "text": [
            "100%|██████████| 3621/3621 [01:23<00:00, 43.35it/s]\n"
          ]
        },
        {
          "output_type": "execute_result",
          "data": {
            "text/plain": [
              "[True]"
            ]
          },
          "metadata": {},
          "execution_count": 12
        }
      ],
      "source": [
        "deeplabcut.create_labeled_video(\n",
        "    path_config_file,\n",
        "    videofile_path,\n",
        "    videotype=video_type,\n",
        "    destfolder=destfolder,\n",
        ")"
      ]
    }
  ],
  "metadata": {
    "accelerator": "GPU",
    "colab": {
      "name": "Copy of latest_Colab_TrainNetwork_VideoAnalysis.ipynb",
      "provenance": [],
      "include_colab_link": true
    },
    "kernelspec": {
      "display_name": "Python 3.8.12 ('dlc')",
      "language": "python",
      "name": "python3"
    },
    "language_info": {
      "name": "python",
      "version": "3.8.12"
    },
    "vscode": {
      "interpreter": {
        "hash": "70cad038f2bddb56e8a0ba66c48b76ebce20579892bf83e71733a81977e3ceea"
      }
    },
    "widgets": {
      "application/vnd.jupyter.widget-state+json": {
        "0cd4a96dff0a4895b54c05519e97e2b9": {
          "model_module": "@jupyter-widgets/controls",
          "model_name": "HBoxModel",
          "model_module_version": "1.5.0",
          "state": {
            "_dom_classes": [],
            "_model_module": "@jupyter-widgets/controls",
            "_model_module_version": "1.5.0",
            "_model_name": "HBoxModel",
            "_view_count": null,
            "_view_module": "@jupyter-widgets/controls",
            "_view_module_version": "1.5.0",
            "_view_name": "HBoxView",
            "box_style": "",
            "children": [
              "IPY_MODEL_1ebd498dbf1a4781948ee6942546c5ab",
              "IPY_MODEL_9f270bde53484819a3f8547637cd2a1a",
              "IPY_MODEL_1c2ed3186e54402e89caadcdf847d804"
            ],
            "layout": "IPY_MODEL_7129ca78941a4b9c917793acc4ccf2b9"
          }
        },
        "1ebd498dbf1a4781948ee6942546c5ab": {
          "model_module": "@jupyter-widgets/controls",
          "model_name": "HTMLModel",
          "model_module_version": "1.5.0",
          "state": {
            "_dom_classes": [],
            "_model_module": "@jupyter-widgets/controls",
            "_model_module_version": "1.5.0",
            "_model_name": "HTMLModel",
            "_view_count": null,
            "_view_module": "@jupyter-widgets/controls",
            "_view_module_version": "1.5.0",
            "_view_name": "HTMLView",
            "description": "",
            "description_tooltip": null,
            "layout": "IPY_MODEL_4fc01716a3574ca3b0588dd242212b87",
            "placeholder": "​",
            "style": "IPY_MODEL_a06def617cb74925baeb234dacaf3170",
            "value": "model.safetensors: 100%"
          }
        },
        "9f270bde53484819a3f8547637cd2a1a": {
          "model_module": "@jupyter-widgets/controls",
          "model_name": "FloatProgressModel",
          "model_module_version": "1.5.0",
          "state": {
            "_dom_classes": [],
            "_model_module": "@jupyter-widgets/controls",
            "_model_module_version": "1.5.0",
            "_model_name": "FloatProgressModel",
            "_view_count": null,
            "_view_module": "@jupyter-widgets/controls",
            "_view_module_version": "1.5.0",
            "_view_name": "ProgressView",
            "bar_style": "success",
            "description": "",
            "description_tooltip": null,
            "layout": "IPY_MODEL_06a2da7519bc47889adff00bcc8c0aae",
            "max": 102242522,
            "min": 0,
            "orientation": "horizontal",
            "style": "IPY_MODEL_5e43025106ef44d986f33a6ecc11d85d",
            "value": 102242522
          }
        },
        "1c2ed3186e54402e89caadcdf847d804": {
          "model_module": "@jupyter-widgets/controls",
          "model_name": "HTMLModel",
          "model_module_version": "1.5.0",
          "state": {
            "_dom_classes": [],
            "_model_module": "@jupyter-widgets/controls",
            "_model_module_version": "1.5.0",
            "_model_name": "HTMLModel",
            "_view_count": null,
            "_view_module": "@jupyter-widgets/controls",
            "_view_module_version": "1.5.0",
            "_view_name": "HTMLView",
            "description": "",
            "description_tooltip": null,
            "layout": "IPY_MODEL_7253eaca6a5d4818bca049a992569196",
            "placeholder": "​",
            "style": "IPY_MODEL_9b4df1970f734895acc02a012f51e87e",
            "value": " 102M/102M [00:01&lt;00:00, 113MB/s]"
          }
        },
        "7129ca78941a4b9c917793acc4ccf2b9": {
          "model_module": "@jupyter-widgets/base",
          "model_name": "LayoutModel",
          "model_module_version": "1.2.0",
          "state": {
            "_model_module": "@jupyter-widgets/base",
            "_model_module_version": "1.2.0",
            "_model_name": "LayoutModel",
            "_view_count": null,
            "_view_module": "@jupyter-widgets/base",
            "_view_module_version": "1.2.0",
            "_view_name": "LayoutView",
            "align_content": null,
            "align_items": null,
            "align_self": null,
            "border": null,
            "bottom": null,
            "display": null,
            "flex": null,
            "flex_flow": null,
            "grid_area": null,
            "grid_auto_columns": null,
            "grid_auto_flow": null,
            "grid_auto_rows": null,
            "grid_column": null,
            "grid_gap": null,
            "grid_row": null,
            "grid_template_areas": null,
            "grid_template_columns": null,
            "grid_template_rows": null,
            "height": null,
            "justify_content": null,
            "justify_items": null,
            "left": null,
            "margin": null,
            "max_height": null,
            "max_width": null,
            "min_height": null,
            "min_width": null,
            "object_fit": null,
            "object_position": null,
            "order": null,
            "overflow": null,
            "overflow_x": null,
            "overflow_y": null,
            "padding": null,
            "right": null,
            "top": null,
            "visibility": null,
            "width": null
          }
        },
        "4fc01716a3574ca3b0588dd242212b87": {
          "model_module": "@jupyter-widgets/base",
          "model_name": "LayoutModel",
          "model_module_version": "1.2.0",
          "state": {
            "_model_module": "@jupyter-widgets/base",
            "_model_module_version": "1.2.0",
            "_model_name": "LayoutModel",
            "_view_count": null,
            "_view_module": "@jupyter-widgets/base",
            "_view_module_version": "1.2.0",
            "_view_name": "LayoutView",
            "align_content": null,
            "align_items": null,
            "align_self": null,
            "border": null,
            "bottom": null,
            "display": null,
            "flex": null,
            "flex_flow": null,
            "grid_area": null,
            "grid_auto_columns": null,
            "grid_auto_flow": null,
            "grid_auto_rows": null,
            "grid_column": null,
            "grid_gap": null,
            "grid_row": null,
            "grid_template_areas": null,
            "grid_template_columns": null,
            "grid_template_rows": null,
            "height": null,
            "justify_content": null,
            "justify_items": null,
            "left": null,
            "margin": null,
            "max_height": null,
            "max_width": null,
            "min_height": null,
            "min_width": null,
            "object_fit": null,
            "object_position": null,
            "order": null,
            "overflow": null,
            "overflow_x": null,
            "overflow_y": null,
            "padding": null,
            "right": null,
            "top": null,
            "visibility": null,
            "width": null
          }
        },
        "a06def617cb74925baeb234dacaf3170": {
          "model_module": "@jupyter-widgets/controls",
          "model_name": "DescriptionStyleModel",
          "model_module_version": "1.5.0",
          "state": {
            "_model_module": "@jupyter-widgets/controls",
            "_model_module_version": "1.5.0",
            "_model_name": "DescriptionStyleModel",
            "_view_count": null,
            "_view_module": "@jupyter-widgets/base",
            "_view_module_version": "1.2.0",
            "_view_name": "StyleView",
            "description_width": ""
          }
        },
        "06a2da7519bc47889adff00bcc8c0aae": {
          "model_module": "@jupyter-widgets/base",
          "model_name": "LayoutModel",
          "model_module_version": "1.2.0",
          "state": {
            "_model_module": "@jupyter-widgets/base",
            "_model_module_version": "1.2.0",
            "_model_name": "LayoutModel",
            "_view_count": null,
            "_view_module": "@jupyter-widgets/base",
            "_view_module_version": "1.2.0",
            "_view_name": "LayoutView",
            "align_content": null,
            "align_items": null,
            "align_self": null,
            "border": null,
            "bottom": null,
            "display": null,
            "flex": null,
            "flex_flow": null,
            "grid_area": null,
            "grid_auto_columns": null,
            "grid_auto_flow": null,
            "grid_auto_rows": null,
            "grid_column": null,
            "grid_gap": null,
            "grid_row": null,
            "grid_template_areas": null,
            "grid_template_columns": null,
            "grid_template_rows": null,
            "height": null,
            "justify_content": null,
            "justify_items": null,
            "left": null,
            "margin": null,
            "max_height": null,
            "max_width": null,
            "min_height": null,
            "min_width": null,
            "object_fit": null,
            "object_position": null,
            "order": null,
            "overflow": null,
            "overflow_x": null,
            "overflow_y": null,
            "padding": null,
            "right": null,
            "top": null,
            "visibility": null,
            "width": null
          }
        },
        "5e43025106ef44d986f33a6ecc11d85d": {
          "model_module": "@jupyter-widgets/controls",
          "model_name": "ProgressStyleModel",
          "model_module_version": "1.5.0",
          "state": {
            "_model_module": "@jupyter-widgets/controls",
            "_model_module_version": "1.5.0",
            "_model_name": "ProgressStyleModel",
            "_view_count": null,
            "_view_module": "@jupyter-widgets/base",
            "_view_module_version": "1.2.0",
            "_view_name": "StyleView",
            "bar_color": null,
            "description_width": ""
          }
        },
        "7253eaca6a5d4818bca049a992569196": {
          "model_module": "@jupyter-widgets/base",
          "model_name": "LayoutModel",
          "model_module_version": "1.2.0",
          "state": {
            "_model_module": "@jupyter-widgets/base",
            "_model_module_version": "1.2.0",
            "_model_name": "LayoutModel",
            "_view_count": null,
            "_view_module": "@jupyter-widgets/base",
            "_view_module_version": "1.2.0",
            "_view_name": "LayoutView",
            "align_content": null,
            "align_items": null,
            "align_self": null,
            "border": null,
            "bottom": null,
            "display": null,
            "flex": null,
            "flex_flow": null,
            "grid_area": null,
            "grid_auto_columns": null,
            "grid_auto_flow": null,
            "grid_auto_rows": null,
            "grid_column": null,
            "grid_gap": null,
            "grid_row": null,
            "grid_template_areas": null,
            "grid_template_columns": null,
            "grid_template_rows": null,
            "height": null,
            "justify_content": null,
            "justify_items": null,
            "left": null,
            "margin": null,
            "max_height": null,
            "max_width": null,
            "min_height": null,
            "min_width": null,
            "object_fit": null,
            "object_position": null,
            "order": null,
            "overflow": null,
            "overflow_x": null,
            "overflow_y": null,
            "padding": null,
            "right": null,
            "top": null,
            "visibility": null,
            "width": null
          }
        },
        "9b4df1970f734895acc02a012f51e87e": {
          "model_module": "@jupyter-widgets/controls",
          "model_name": "DescriptionStyleModel",
          "model_module_version": "1.5.0",
          "state": {
            "_model_module": "@jupyter-widgets/controls",
            "_model_module_version": "1.5.0",
            "_model_name": "DescriptionStyleModel",
            "_view_count": null,
            "_view_module": "@jupyter-widgets/base",
            "_view_module_version": "1.2.0",
            "_view_name": "StyleView",
            "description_width": ""
          }
        }
      }
    }
  },
  "nbformat": 4,
  "nbformat_minor": 0
}